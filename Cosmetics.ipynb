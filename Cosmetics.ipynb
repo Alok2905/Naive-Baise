{
 "cells": [
  {
   "cell_type": "code",
   "execution_count": 1,
   "metadata": {},
   "outputs": [
    {
     "name": "stdout",
     "output_type": "stream",
     "text": [
      "Lord_Balaji\n"
     ]
    }
   ],
   "source": [
    "print(\"Lord_Balaji\")"
   ]
  },
  {
   "cell_type": "code",
   "execution_count": 2,
   "metadata": {},
   "outputs": [],
   "source": [
    "import pandas as pd\n",
    "import numpy as np\n",
    "import matplotlib.pyplot as plt\n",
    "import seaborn as sns"
   ]
  },
  {
   "cell_type": "code",
   "execution_count": 3,
   "metadata": {},
   "outputs": [],
   "source": [
    "df = pd.read_csv(\"E:\\Python_Vedeo\\DataSets\\Cosmetic\\Cosmetics.csv\")"
   ]
  },
  {
   "cell_type": "code",
   "execution_count": 4,
   "metadata": {},
   "outputs": [
    {
     "data": {
      "text/html": [
       "<div>\n",
       "<style scoped>\n",
       "    .dataframe tbody tr th:only-of-type {\n",
       "        vertical-align: middle;\n",
       "    }\n",
       "\n",
       "    .dataframe tbody tr th {\n",
       "        vertical-align: top;\n",
       "    }\n",
       "\n",
       "    .dataframe thead th {\n",
       "        text-align: right;\n",
       "    }\n",
       "</style>\n",
       "<table border=\"1\" class=\"dataframe\">\n",
       "  <thead>\n",
       "    <tr style=\"text-align: right;\">\n",
       "      <th></th>\n",
       "      <th>Bag</th>\n",
       "      <th>Blush</th>\n",
       "      <th>Nail Polish</th>\n",
       "      <th>Brushes</th>\n",
       "      <th>Concealer</th>\n",
       "      <th>Eyebrow Pencils</th>\n",
       "      <th>Bronzer</th>\n",
       "      <th>Lip liner</th>\n",
       "      <th>Mascara</th>\n",
       "      <th>Eye shadow</th>\n",
       "      <th>Foundation</th>\n",
       "      <th>Lip Gloss</th>\n",
       "      <th>Lipstick</th>\n",
       "      <th>Eyeliner</th>\n",
       "    </tr>\n",
       "  </thead>\n",
       "  <tbody>\n",
       "    <tr>\n",
       "      <th>0</th>\n",
       "      <td>No</td>\n",
       "      <td>Yes</td>\n",
       "      <td>Yes</td>\n",
       "      <td>Yes</td>\n",
       "      <td>Yes</td>\n",
       "      <td>No</td>\n",
       "      <td>Yes</td>\n",
       "      <td>Yes</td>\n",
       "      <td>Yes</td>\n",
       "      <td>No</td>\n",
       "      <td>No</td>\n",
       "      <td>No</td>\n",
       "      <td>No</td>\n",
       "      <td>Yes</td>\n",
       "    </tr>\n",
       "    <tr>\n",
       "      <th>1</th>\n",
       "      <td>No</td>\n",
       "      <td>No</td>\n",
       "      <td>Yes</td>\n",
       "      <td>No</td>\n",
       "      <td>Yes</td>\n",
       "      <td>No</td>\n",
       "      <td>Yes</td>\n",
       "      <td>Yes</td>\n",
       "      <td>No</td>\n",
       "      <td>No</td>\n",
       "      <td>Yes</td>\n",
       "      <td>Yes</td>\n",
       "      <td>No</td>\n",
       "      <td>No</td>\n",
       "    </tr>\n",
       "    <tr>\n",
       "      <th>2</th>\n",
       "      <td>No</td>\n",
       "      <td>Yes</td>\n",
       "      <td>No</td>\n",
       "      <td>No</td>\n",
       "      <td>Yes</td>\n",
       "      <td>Yes</td>\n",
       "      <td>Yes</td>\n",
       "      <td>Yes</td>\n",
       "      <td>Yes</td>\n",
       "      <td>Yes</td>\n",
       "      <td>Yes</td>\n",
       "      <td>Yes</td>\n",
       "      <td>Yes</td>\n",
       "      <td>No</td>\n",
       "    </tr>\n",
       "    <tr>\n",
       "      <th>3</th>\n",
       "      <td>No</td>\n",
       "      <td>No</td>\n",
       "      <td>Yes</td>\n",
       "      <td>Yes</td>\n",
       "      <td>Yes</td>\n",
       "      <td>No</td>\n",
       "      <td>Yes</td>\n",
       "      <td>No</td>\n",
       "      <td>No</td>\n",
       "      <td>No</td>\n",
       "      <td>Yes</td>\n",
       "      <td>No</td>\n",
       "      <td>No</td>\n",
       "      <td>Yes</td>\n",
       "    </tr>\n",
       "    <tr>\n",
       "      <th>4</th>\n",
       "      <td>No</td>\n",
       "      <td>Yes</td>\n",
       "      <td>No</td>\n",
       "      <td>No</td>\n",
       "      <td>Yes</td>\n",
       "      <td>No</td>\n",
       "      <td>Yes</td>\n",
       "      <td>Yes</td>\n",
       "      <td>Yes</td>\n",
       "      <td>Yes</td>\n",
       "      <td>No</td>\n",
       "      <td>Yes</td>\n",
       "      <td>Yes</td>\n",
       "      <td>No</td>\n",
       "    </tr>\n",
       "  </tbody>\n",
       "</table>\n",
       "</div>"
      ],
      "text/plain": [
       "  Bag Blush Nail Polish Brushes Concealer Eyebrow Pencils Bronzer Lip liner  \\\n",
       "0  No   Yes         Yes     Yes       Yes              No     Yes       Yes   \n",
       "1  No    No         Yes      No       Yes              No     Yes       Yes   \n",
       "2  No   Yes          No      No       Yes             Yes     Yes       Yes   \n",
       "3  No    No         Yes     Yes       Yes              No     Yes        No   \n",
       "4  No   Yes          No      No       Yes              No     Yes       Yes   \n",
       "\n",
       "  Mascara Eye shadow Foundation Lip Gloss Lipstick Eyeliner  \n",
       "0     Yes         No         No        No       No      Yes  \n",
       "1      No         No        Yes       Yes       No       No  \n",
       "2     Yes        Yes        Yes       Yes      Yes       No  \n",
       "3      No         No        Yes        No       No      Yes  \n",
       "4     Yes        Yes         No       Yes      Yes       No  "
      ]
     },
     "execution_count": 4,
     "metadata": {},
     "output_type": "execute_result"
    }
   ],
   "source": [
    "df.head()"
   ]
  },
  {
   "cell_type": "code",
   "execution_count": 5,
   "metadata": {},
   "outputs": [
    {
     "data": {
      "text/plain": [
       "(1000, 14)"
      ]
     },
     "execution_count": 5,
     "metadata": {},
     "output_type": "execute_result"
    }
   ],
   "source": [
    "df.shape"
   ]
  },
  {
   "cell_type": "code",
   "execution_count": 7,
   "metadata": {},
   "outputs": [
    {
     "data": {
      "text/plain": [
       "0"
      ]
     },
     "execution_count": 7,
     "metadata": {},
     "output_type": "execute_result"
    }
   ],
   "source": [
    "df.isnull().sum().sum()"
   ]
  },
  {
   "cell_type": "code",
   "execution_count": 8,
   "metadata": {},
   "outputs": [
    {
     "data": {
      "text/plain": [
       "Index(['Bag', 'Blush', 'Nail Polish', 'Brushes', 'Concealer',\n",
       "       'Eyebrow Pencils', 'Bronzer', 'Lip liner', 'Mascara', 'Eye shadow',\n",
       "       'Foundation', 'Lip Gloss', 'Lipstick', 'Eyeliner'],\n",
       "      dtype='object')"
      ]
     },
     "execution_count": 8,
     "metadata": {},
     "output_type": "execute_result"
    }
   ],
   "source": [
    "df.keys()"
   ]
  },
  {
   "cell_type": "code",
   "execution_count": 10,
   "metadata": {},
   "outputs": [
    {
     "data": {
      "text/plain": [
       "<matplotlib.axes._subplots.AxesSubplot at 0x1e397e806c8>"
      ]
     },
     "execution_count": 10,
     "metadata": {},
     "output_type": "execute_result"
    },
    {
     "data": {
      "image/png": "[encoded data removed]",
      "text/plain": [
       "<Figure size 432x288 with 1 Axes>"
      ]
     },
     "metadata": {
      "needs_background": "light"
     },
     "output_type": "display_data"
    }
   ],
   "source": [
    "sns.countplot(df['Bag'])"
   ]
  },
  {
   "cell_type": "code",
   "execution_count": 12,
   "metadata": {},
   "outputs": [
    {
     "data": {
      "text/plain": [
       "<matplotlib.axes._subplots.AxesSubplot at 0x1e3986bbd88>"
      ]
     },
     "execution_count": 12,
     "metadata": {},
     "output_type": "execute_result"
    },
    {
     "data": {
      "image/png": "[encoded data removed]",
      "text/plain": [
       "<Figure size 432x288 with 1 Axes>"
      ]
     },
     "metadata": {
      "needs_background": "light"
     },
     "output_type": "display_data"
    }
   ],
   "source": [
    "sns.countplot(df['Bag'], hue = df['Blush'])"
   ]
  },
  {
   "cell_type": "code",
   "execution_count": 13,
   "metadata": {},
   "outputs": [],
   "source": [
    "df2 = [pd.get_dummies(df['Bag'], prefix = df['Bag'], drop_first = True ),\n",
    "pd.get_dummies(df['Blush'], prefix = df['Blush'], drop_first = True ),\n",
    "pd.get_dummies(df['Nail Polish'], prefix = df['Nail Polish'], drop_first = True ),\n",
    "pd.get_dummies(df['Brushes'], prefix = df['Brushes'], drop_first = True ),\n",
    "pd.get_dummies(df['Concealer'], prefix = df['Concealer'], drop_first = True ),\n",
    "pd.get_dummies(df['Eyebrow Pencils'], prefix = df['Eyebrow Pencils'], drop_first = True ),\n",
    "pd.get_dummies(df['Bronzer'], prefix = df['Bronzer'], drop_first = True ),\n",
    "pd.get_dummies(df['Lip liner'], prefix = df['Lip liner'], drop_first = True ),\n",
    "pd.get_dummies(df['Mascara'], prefix = df['Mascara'], drop_first = True ),\n",
    "pd.get_dummies(df['Eye shadow'], prefix = df['Eye shadow'], drop_first = True ),\n",
    "pd.get_dummies(df['Foundation'], prefix = df['Foundation'], drop_first = True ),\n",
    "pd.get_dummies(df['Lip Gloss'], prefix = df['Lip Gloss'], drop_first = True ),\n",
    "pd.get_dummies(df['Lipstick'], prefix = df['Lipstick'], drop_first = True ),\n",
    "pd.get_dummies(df['Eyeliner'], prefix = df['Eyeliner'], drop_first = True )]"
   ]
  },
  {
   "cell_type": "code",
   "execution_count": 14,
   "metadata": {},
   "outputs": [],
   "source": [
    "df2 = pd.concat(df2, axis = 1)"
   ]
  },
  {
   "cell_type": "code",
   "execution_count": 16,
   "metadata": {},
   "outputs": [
    {
     "data": {
      "text/html": [
       "<div>\n",
       "<style scoped>\n",
       "    .dataframe tbody tr th:only-of-type {\n",
       "        vertical-align: middle;\n",
       "    }\n",
       "\n",
       "    .dataframe tbody tr th {\n",
       "        vertical-align: top;\n",
       "    }\n",
       "\n",
       "    .dataframe thead th {\n",
       "        text-align: right;\n",
       "    }\n",
       "</style>\n",
       "<table border=\"1\" class=\"dataframe\">\n",
       "  <thead>\n",
       "    <tr style=\"text-align: right;\">\n",
       "      <th></th>\n",
       "      <th>0       No\\n1       No\\n2       No\\n3       No\\n4       No\\n      ... \\n995     No\\n996     No\\n997     No\\n998    Yes\\n999     No\\nName: Bag, Length: 1000, dtype: object_Yes</th>\n",
       "      <th>0      Yes\\n1       No\\n2      Yes\\n3       No\\n4      Yes\\n      ... \\n995     No\\n996     No\\n997    Yes\\n998    Yes\\n999     No\\nName: Blush, Length: 1000, dtype: object_Yes</th>\n",
       "      <th>0      Yes\\n1      Yes\\n2       No\\n3      Yes\\n4       No\\n      ... \\n995     No\\n996     No\\n997    Yes\\n998     No\\n999     No\\nName: Nail Polish, Length: 1000, dtype: object_Yes</th>\n",
       "      <th>0      Yes\\n1       No\\n2       No\\n3      Yes\\n4       No\\n      ... \\n995     No\\n996     No\\n997    Yes\\n998     No\\n999     No\\nName: Brushes, Length: 1000, dtype: object_Yes</th>\n",
       "      <th>0      Yes\\n1      Yes\\n2      Yes\\n3      Yes\\n4      Yes\\n      ... \\n995     No\\n996     No\\n997    Yes\\n998    Yes\\n999    Yes\\nName: Concealer, Length: 1000, dtype: object_Yes</th>\n",
       "      <th>0       No\\n1       No\\n2      Yes\\n3       No\\n4       No\\n      ... \\n995     No\\n996     No\\n997     No\\n998     No\\n999     No\\nName: Eyebrow Pencils, Length: 1000, dtype: object_Yes</th>\n",
       "      <th>0      Yes\\n1      Yes\\n2      Yes\\n3      Yes\\n4      Yes\\n      ... \\n995     No\\n996     No\\n997     No\\n998     No\\n999    Yes\\nName: Bronzer, Length: 1000, dtype: object_Yes</th>\n",
       "      <th>0      Yes\\n1      Yes\\n2      Yes\\n3       No\\n4      Yes\\n      ... \\n995     No\\n996     No\\n997    Yes\\n998     No\\n999    Yes\\nName: Lip liner, Length: 1000, dtype: object_Yes</th>\n",
       "      <th>0      Yes\\n1       No\\n2      Yes\\n3       No\\n4      Yes\\n      ... \\n995     No\\n996     No\\n997     No\\n998    Yes\\n999     No\\nName: Mascara, Length: 1000, dtype: object_Yes</th>\n",
       "      <th>0       No\\n1       No\\n2      Yes\\n3       No\\n4      Yes\\n      ... \\n995     No\\n996     No\\n997     No\\n998    Yes\\n999    Yes\\nName: Eye shadow, Length: 1000, dtype: object_Yes</th>\n",
       "      <th>0       No\\n1      Yes\\n2      Yes\\n3      Yes\\n4       No\\n      ... \\n995     No\\n996    Yes\\n997    Yes\\n998     No\\n999     No\\nName: Foundation, Length: 1000, dtype: object_Yes</th>\n",
       "      <th>0       No\\n1      Yes\\n2      Yes\\n3       No\\n4      Yes\\n      ... \\n995     No\\n996    Yes\\n997     No\\n998     No\\n999     No\\nName: Lip Gloss, Length: 1000, dtype: object_Yes</th>\n",
       "      <th>0       No\\n1       No\\n2      Yes\\n3       No\\n4      Yes\\n      ... \\n995     No\\n996     No\\n997    Yes\\n998    Yes\\n999     No\\nName: Lipstick, Length: 1000, dtype: object_Yes</th>\n",
       "      <th>0      Yes\\n1       No\\n2       No\\n3      Yes\\n4       No\\n      ... \\n995     No\\n996     No\\n997    Yes\\n998    Yes\\n999    Yes\\nName: Eyeliner, Length: 1000, dtype: object_Yes</th>\n",
       "    </tr>\n",
       "  </thead>\n",
       "  <tbody>\n",
       "    <tr>\n",
       "      <th>0</th>\n",
       "      <td>0</td>\n",
       "      <td>1</td>\n",
       "      <td>1</td>\n",
       "      <td>1</td>\n",
       "      <td>1</td>\n",
       "      <td>0</td>\n",
       "      <td>1</td>\n",
       "      <td>1</td>\n",
       "      <td>1</td>\n",
       "      <td>0</td>\n",
       "      <td>0</td>\n",
       "      <td>0</td>\n",
       "      <td>0</td>\n",
       "      <td>1</td>\n",
       "    </tr>\n",
       "    <tr>\n",
       "      <th>1</th>\n",
       "      <td>0</td>\n",
       "      <td>0</td>\n",
       "      <td>1</td>\n",
       "      <td>0</td>\n",
       "      <td>1</td>\n",
       "      <td>0</td>\n",
       "      <td>1</td>\n",
       "      <td>1</td>\n",
       "      <td>0</td>\n",
       "      <td>0</td>\n",
       "      <td>1</td>\n",
       "      <td>1</td>\n",
       "      <td>0</td>\n",
       "      <td>0</td>\n",
       "    </tr>\n",
       "    <tr>\n",
       "      <th>2</th>\n",
       "      <td>0</td>\n",
       "      <td>1</td>\n",
       "      <td>0</td>\n",
       "      <td>0</td>\n",
       "      <td>1</td>\n",
       "      <td>1</td>\n",
       "      <td>1</td>\n",
       "      <td>1</td>\n",
       "      <td>1</td>\n",
       "      <td>1</td>\n",
       "      <td>1</td>\n",
       "      <td>1</td>\n",
       "      <td>1</td>\n",
       "      <td>0</td>\n",
       "    </tr>\n",
       "    <tr>\n",
       "      <th>3</th>\n",
       "      <td>0</td>\n",
       "      <td>0</td>\n",
       "      <td>1</td>\n",
       "      <td>1</td>\n",
       "      <td>1</td>\n",
       "      <td>0</td>\n",
       "      <td>1</td>\n",
       "      <td>0</td>\n",
       "      <td>0</td>\n",
       "      <td>0</td>\n",
       "      <td>1</td>\n",
       "      <td>0</td>\n",
       "      <td>0</td>\n",
       "      <td>1</td>\n",
       "    </tr>\n",
       "    <tr>\n",
       "      <th>4</th>\n",
       "      <td>0</td>\n",
       "      <td>1</td>\n",
       "      <td>0</td>\n",
       "      <td>0</td>\n",
       "      <td>1</td>\n",
       "      <td>0</td>\n",
       "      <td>1</td>\n",
       "      <td>1</td>\n",
       "      <td>1</td>\n",
       "      <td>1</td>\n",
       "      <td>0</td>\n",
       "      <td>1</td>\n",
       "      <td>1</td>\n",
       "      <td>0</td>\n",
       "    </tr>\n",
       "  </tbody>\n",
       "</table>\n",
       "</div>"
      ],
      "text/plain": [
       "   0       No\\n1       No\\n2       No\\n3       No\\n4       No\\n      ... \\n995     No\\n996     No\\n997     No\\n998    Yes\\n999     No\\nName: Bag, Length: 1000, dtype: object_Yes  \\\n",
       "0                                                  0                                                                                                                                \n",
       "1                                                  0                                                                                                                                \n",
       "2                                                  0                                                                                                                                \n",
       "3                                                  0                                                                                                                                \n",
       "4                                                  0                                                                                                                                \n",
       "\n",
       "   0      Yes\\n1       No\\n2      Yes\\n3       No\\n4      Yes\\n      ... \\n995     No\\n996     No\\n997    Yes\\n998    Yes\\n999     No\\nName: Blush, Length: 1000, dtype: object_Yes  \\\n",
       "0                                                  1                                                                                                                                  \n",
       "1                                                  0                                                                                                                                  \n",
       "2                                                  1                                                                                                                                  \n",
       "3                                                  0                                                                                                                                  \n",
       "4                                                  1                                                                                                                                  \n",
       "\n",
       "   0      Yes\\n1      Yes\\n2       No\\n3      Yes\\n4       No\\n      ... \\n995     No\\n996     No\\n997    Yes\\n998     No\\n999     No\\nName: Nail Polish, Length: 1000, dtype: object_Yes  \\\n",
       "0                                                  1                                                                                                                                        \n",
       "1                                                  1                                                                                                                                        \n",
       "2                                                  0                                                                                                                                        \n",
       "3                                                  1                                                                                                                                        \n",
       "4                                                  0                                                                                                                                        \n",
       "\n",
       "   0      Yes\\n1       No\\n2       No\\n3      Yes\\n4       No\\n      ... \\n995     No\\n996     No\\n997    Yes\\n998     No\\n999     No\\nName: Brushes, Length: 1000, dtype: object_Yes  \\\n",
       "0                                                  1                                                                                                                                    \n",
       "1                                                  0                                                                                                                                    \n",
       "2                                                  0                                                                                                                                    \n",
       "3                                                  1                                                                                                                                    \n",
       "4                                                  0                                                                                                                                    \n",
       "\n",
       "   0      Yes\\n1      Yes\\n2      Yes\\n3      Yes\\n4      Yes\\n      ... \\n995     No\\n996     No\\n997    Yes\\n998    Yes\\n999    Yes\\nName: Concealer, Length: 1000, dtype: object_Yes  \\\n",
       "0                                                  1                                                                                                                                      \n",
       "1                                                  1                                                                                                                                      \n",
       "2                                                  1                                                                                                                                      \n",
       "3                                                  1                                                                                                                                      \n",
       "4                                                  1                                                                                                                                      \n",
       "\n",
       "   0       No\\n1       No\\n2      Yes\\n3       No\\n4       No\\n      ... \\n995     No\\n996     No\\n997     No\\n998     No\\n999     No\\nName: Eyebrow Pencils, Length: 1000, dtype: object_Yes  \\\n",
       "0                                                  0                                                                                                                                            \n",
       "1                                                  0                                                                                                                                            \n",
       "2                                                  1                                                                                                                                            \n",
       "3                                                  0                                                                                                                                            \n",
       "4                                                  0                                                                                                                                            \n",
       "\n",
       "   0      Yes\\n1      Yes\\n2      Yes\\n3      Yes\\n4      Yes\\n      ... \\n995     No\\n996     No\\n997     No\\n998     No\\n999    Yes\\nName: Bronzer, Length: 1000, dtype: object_Yes  \\\n",
       "0                                                  1                                                                                                                                    \n",
       "1                                                  1                                                                                                                                    \n",
       "2                                                  1                                                                                                                                    \n",
       "3                                                  1                                                                                                                                    \n",
       "4                                                  1                                                                                                                                    \n",
       "\n",
       "   0      Yes\\n1      Yes\\n2      Yes\\n3       No\\n4      Yes\\n      ... \\n995     No\\n996     No\\n997    Yes\\n998     No\\n999    Yes\\nName: Lip liner, Length: 1000, dtype: object_Yes  \\\n",
       "0                                                  1                                                                                                                                      \n",
       "1                                                  1                                                                                                                                      \n",
       "2                                                  1                                                                                                                                      \n",
       "3                                                  0                                                                                                                                      \n",
       "4                                                  1                                                                                                                                      \n",
       "\n",
       "   0      Yes\\n1       No\\n2      Yes\\n3       No\\n4      Yes\\n      ... \\n995     No\\n996     No\\n997     No\\n998    Yes\\n999     No\\nName: Mascara, Length: 1000, dtype: object_Yes  \\\n",
       "0                                                  1                                                                                                                                    \n",
       "1                                                  0                                                                                                                                    \n",
       "2                                                  1                                                                                                                                    \n",
       "3                                                  0                                                                                                                                    \n",
       "4                                                  1                                                                                                                                    \n",
       "\n",
       "   0       No\\n1       No\\n2      Yes\\n3       No\\n4      Yes\\n      ... \\n995     No\\n996     No\\n997     No\\n998    Yes\\n999    Yes\\nName: Eye shadow, Length: 1000, dtype: object_Yes  \\\n",
       "0                                                  0                                                                                                                                       \n",
       "1                                                  0                                                                                                                                       \n",
       "2                                                  1                                                                                                                                       \n",
       "3                                                  0                                                                                                                                       \n",
       "4                                                  1                                                                                                                                       \n",
       "\n",
       "   0       No\\n1      Yes\\n2      Yes\\n3      Yes\\n4       No\\n      ... \\n995     No\\n996    Yes\\n997    Yes\\n998     No\\n999     No\\nName: Foundation, Length: 1000, dtype: object_Yes  \\\n",
       "0                                                  0                                                                                                                                       \n",
       "1                                                  1                                                                                                                                       \n",
       "2                                                  1                                                                                                                                       \n",
       "3                                                  1                                                                                                                                       \n",
       "4                                                  0                                                                                                                                       \n",
       "\n",
       "   0       No\\n1      Yes\\n2      Yes\\n3       No\\n4      Yes\\n      ... \\n995     No\\n996    Yes\\n997     No\\n998     No\\n999     No\\nName: Lip Gloss, Length: 1000, dtype: object_Yes  \\\n",
       "0                                                  0                                                                                                                                      \n",
       "1                                                  1                                                                                                                                      \n",
       "2                                                  1                                                                                                                                      \n",
       "3                                                  0                                                                                                                                      \n",
       "4                                                  1                                                                                                                                      \n",
       "\n",
       "   0       No\\n1       No\\n2      Yes\\n3       No\\n4      Yes\\n      ... \\n995     No\\n996     No\\n997    Yes\\n998    Yes\\n999     No\\nName: Lipstick, Length: 1000, dtype: object_Yes  \\\n",
       "0                                                  0                                                                                                                                     \n",
       "1                                                  0                                                                                                                                     \n",
       "2                                                  1                                                                                                                                     \n",
       "3                                                  0                                                                                                                                     \n",
       "4                                                  1                                                                                                                                     \n",
       "\n",
       "   0      Yes\\n1       No\\n2       No\\n3      Yes\\n4       No\\n      ... \\n995     No\\n996     No\\n997    Yes\\n998    Yes\\n999    Yes\\nName: Eyeliner, Length: 1000, dtype: object_Yes  \n",
       "0                                                  1                                                                                                                                    \n",
       "1                                                  0                                                                                                                                    \n",
       "2                                                  0                                                                                                                                    \n",
       "3                                                  1                                                                                                                                    \n",
       "4                                                  0                                                                                                                                    "
      ]
     },
     "execution_count": 16,
     "metadata": {},
     "output_type": "execute_result"
    }
   ],
   "source": [
    "df2.head()"
   ]
  }
 ],
 "metadata": {
  "kernelspec": {
   "display_name": "Python 3",
   "language": "python",
   "name": "python3"
  },
  "language_info": {
   "codemirror_mode": {
    "name": "ipython",
    "version": 3
   },
   "file_extension": ".py",
   "mimetype": "text/x-python",
   "name": "python",
   "nbconvert_exporter": "python",
   "pygments_lexer": "ipython3",
   "version": "3.7.6"
  }
 },
 "nbformat": 4,
 "nbformat_minor": 4
}
